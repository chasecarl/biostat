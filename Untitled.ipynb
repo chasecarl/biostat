{
 "cells": [
  {
   "cell_type": "code",
   "execution_count": 3,
   "metadata": {},
   "outputs": [],
   "source": [
    "from bs4 import BeautifulSoup"
   ]
  },
  {
   "cell_type": "code",
   "execution_count": 115,
   "metadata": {},
   "outputs": [],
   "source": [
    "ex_path = 'ex4p2.html'\n",
    "table_class = 'gapfilltable'"
   ]
  },
  {
   "cell_type": "code",
   "execution_count": 116,
   "metadata": {},
   "outputs": [],
   "source": [
    "with open(ex_path, encoding='utf-8') as f:\n",
    "    soup = BeautifulSoup(f.read(), 'html.parser')"
   ]
  },
  {
   "cell_type": "code",
   "execution_count": 117,
   "metadata": {},
   "outputs": [],
   "source": [
    "table_html = soup.find(class_=table_class)"
   ]
  },
  {
   "cell_type": "code",
   "execution_count": 118,
   "metadata": {},
   "outputs": [
    {
     "name": "stdout",
     "output_type": "stream",
     "text": [
      "<table border=\"1\" cellpadding=\"5px\" cellspacing=\"0\" class=\"gapfilltable\">\n",
      " <thead align=\"center\">\n",
      "  <tr>\n",
      "   <th colspan=\"8\">\n",
      "    Table of weights (kg) of toddlers fed various diets\n",
      "   </th>\n",
      "  </tr>\n",
      " </thead>\n",
      " <tbody align=\"center\">\n",
      "  <tr>\n",
      "   <td>\n",
      "    #\n",
      "   </td>\n",
      "   <td>\n",
      "    <b>\n",
      "     Everything\n",
      "    </b>\n",
      "   </td>\n",
      "   <td>\n",
      "    <b>\n",
      "     Vegetarian\n",
      "    </b>\n",
      "   </td>\n",
      "   <td>\n",
      "    <b>\n",
      "     Vegan\n",
      "    </b>\n",
      "   </td>\n",
      "   <td>\n",
      "    <b>\n",
      "     Gluten-Free\n",
      "    </b>\n",
      "   </td>\n",
      "  </tr>\n",
      "  <tr>\n",
      "   <td>\n",
      "    1\n",
      "   </td>\n",
      "   <td>\n",
      "    16.74\n",
      "   </td>\n",
      "   <td>\n",
      "    15.98\n",
      "   </td>\n",
      "   <td>\n",
      "    13.27\n",
      "   </td>\n",
      "   <td>\n",
      "    15.46\n",
      "   </td>\n",
      "  </tr>\n",
      "  <tr>\n",
      "   <td>\n",
      "    2\n",
      "   </td>\n",
      "   <td>\n",
      "    16.85\n",
      "   </td>\n",
      "   <td>\n",
      "    15.01\n",
      "   </td>\n",
      "   <td>\n",
      "    13.87\n",
      "   </td>\n",
      "   <td>\n",
      "    15.76\n",
      "   </td>\n",
      "  </tr>\n",
      "  <tr>\n",
      "   <td>\n",
      "    3\n",
      "   </td>\n",
      "   <td>\n",
      "    14.8\n",
      "   </td>\n",
      "   <td>\n",
      "    15.34\n",
      "   </td>\n",
      "   <td>\n",
      "    14.66\n",
      "   </td>\n",
      "   <td>\n",
      "    17.14\n",
      "   </td>\n",
      "  </tr>\n",
      "  <tr>\n",
      "   <td>\n",
      "    4\n",
      "   </td>\n",
      "   <td>\n",
      "    17.17\n",
      "   </td>\n",
      "   <td>\n",
      "    17.39\n",
      "   </td>\n",
      "   <td>\n",
      "    14.36\n",
      "   </td>\n",
      "   <td>\n",
      "    17.54\n",
      "   </td>\n",
      "  </tr>\n",
      "  <tr>\n",
      "   <td>\n",
      "    5\n",
      "   </td>\n",
      "   <td>\n",
      "    13.82\n",
      "   </td>\n",
      "   <td>\n",
      "    16.52\n",
      "   </td>\n",
      "   <td>\n",
      "    16.64\n",
      "   </td>\n",
      "   <td>\n",
      "    18.23\n",
      "   </td>\n",
      "  </tr>\n",
      "  <tr>\n",
      "   <td>\n",
      "    6\n",
      "   </td>\n",
      "   <td>\n",
      "    14.9\n",
      "   </td>\n",
      "   <td>\n",
      "    14.58\n",
      "   </td>\n",
      "   <td>\n",
      "    14.06\n",
      "   </td>\n",
      "   <td>\n",
      "    17.24\n",
      "   </td>\n",
      "  </tr>\n",
      "  <tr>\n",
      "   <td>\n",
      "    7\n",
      "   </td>\n",
      "   <td>\n",
      "    15.34\n",
      "   </td>\n",
      "   <td>\n",
      "    14.47\n",
      "   </td>\n",
      "   <td>\n",
      "    13.37\n",
      "   </td>\n",
      "   <td>\n",
      "    15.06\n",
      "   </td>\n",
      "  </tr>\n",
      "  <tr>\n",
      "   <td>\n",
      "    8\n",
      "   </td>\n",
      "   <td>\n",
      "    17.39\n",
      "   </td>\n",
      "   <td>\n",
      "    15.12\n",
      "   </td>\n",
      "   <td>\n",
      "    14.16\n",
      "   </td>\n",
      "   <td>\n",
      "    15.16\n",
      "   </td>\n",
      "  </tr>\n",
      "  <tr>\n",
      "   <td>\n",
      "    9\n",
      "   </td>\n",
      "   <td>\n",
      "    18.79\n",
      "   </td>\n",
      "   <td>\n",
      "    16.31\n",
      "   </td>\n",
      "   <td>\n",
      "    13.67\n",
      "   </td>\n",
      "   <td>\n",
      "    16.45\n",
      "   </td>\n",
      "  </tr>\n",
      "  <tr>\n",
      "   <td>\n",
      "    10\n",
      "   </td>\n",
      "   <td>\n",
      "    18.14\n",
      "   </td>\n",
      "   <td>\n",
      "    17.06\n",
      "   </td>\n",
      "   <td>\n",
      "    16.44\n",
      "   </td>\n",
      "   <td>\n",
      "    14.87\n",
      "   </td>\n",
      "  </tr>\n",
      "  <tr>\n",
      "   <td>\n",
      "    11\n",
      "   </td>\n",
      "   <td>\n",
      "    17.82\n",
      "   </td>\n",
      "   <td>\n",
      "    17.28\n",
      "   </td>\n",
      "   <td>\n",
      "    14.56\n",
      "   </td>\n",
      "   <td>\n",
      "    17.44\n",
      "   </td>\n",
      "  </tr>\n",
      "  <tr>\n",
      "   <td>\n",
      "    12\n",
      "   </td>\n",
      "   <td>\n",
      "    18.04\n",
      "   </td>\n",
      "   <td>\n",
      "    15.44\n",
      "   </td>\n",
      "   <td>\n",
      "    13.57\n",
      "   </td>\n",
      "   <td>\n",
      "    16.95\n",
      "   </td>\n",
      "  </tr>\n",
      "  <tr>\n",
      "   <td>\n",
      "    13\n",
      "   </td>\n",
      "   <td>\n",
      "    17.06\n",
      "   </td>\n",
      "   <td>\n",
      "    16.2\n",
      "   </td>\n",
      "   <td>\n",
      "   </td>\n",
      "   <td>\n",
      "    16.25\n",
      "   </td>\n",
      "  </tr>\n",
      "  <tr>\n",
      "   <td>\n",
      "    14\n",
      "   </td>\n",
      "   <td>\n",
      "    14.58\n",
      "   </td>\n",
      "   <td>\n",
      "    15.89\n",
      "   </td>\n",
      "   <td>\n",
      "   </td>\n",
      "   <td>\n",
      "    15.66\n",
      "   </td>\n",
      "  </tr>\n",
      "  <tr>\n",
      "   <td>\n",
      "    15\n",
      "   </td>\n",
      "   <td>\n",
      "    15.77\n",
      "   </td>\n",
      "   <td>\n",
      "    13.93\n",
      "   </td>\n",
      "   <td>\n",
      "   </td>\n",
      "   <td>\n",
      "    16.35\n",
      "   </td>\n",
      "  </tr>\n",
      "  <tr>\n",
      "   <td>\n",
      "    16\n",
      "   </td>\n",
      "   <td>\n",
      "    15.98\n",
      "   </td>\n",
      "   <td>\n",
      "    15.66\n",
      "   </td>\n",
      "   <td>\n",
      "   </td>\n",
      "   <td>\n",
      "   </td>\n",
      "  </tr>\n",
      "  <tr>\n",
      "   <td>\n",
      "    17\n",
      "   </td>\n",
      "   <td>\n",
      "    17.17\n",
      "   </td>\n",
      "   <td>\n",
      "   </td>\n",
      "   <td>\n",
      "   </td>\n",
      "   <td>\n",
      "   </td>\n",
      "  </tr>\n",
      "  <tr>\n",
      "   <th>\n",
      "    Mean\n",
      "   </th>\n",
      "   <td>\n",
      "    <span class=\"subquestion form-inline d-inline\" id=\"yui_3_17_2_1_1577051239941_142\">\n",
      "     <label class=\"subq accesshide\" for=\"q106588:11_sub5_answer\">\n",
      "      Answer\n",
      "     </label>\n",
      "     <input class=\"form-control mb-1\" id=\"q106588:11_sub5_answer\" name=\"q106588:11_sub5_answer\" size=\"8\" type=\"text\"/>\n",
      "    </span>\n",
      "   </td>\n",
      "   <td>\n",
      "    <span class=\"subquestion form-inline d-inline\" id=\"yui_3_17_2_1_1577051239941_144\">\n",
      "     <label class=\"subq accesshide\" for=\"q106588:11_sub6_answer\">\n",
      "      Answer\n",
      "     </label>\n",
      "     <input class=\"form-control mb-1\" id=\"q106588:11_sub6_answer\" name=\"q106588:11_sub6_answer\" size=\"8\" type=\"text\"/>\n",
      "    </span>\n",
      "   </td>\n",
      "   <td>\n",
      "    <span class=\"subquestion form-inline d-inline\" id=\"yui_3_17_2_1_1577051239941_146\">\n",
      "     <label class=\"subq accesshide\" for=\"q106588:11_sub7_answer\">\n",
      "      Answer\n",
      "     </label>\n",
      "     <input class=\"form-control mb-1\" id=\"q106588:11_sub7_answer\" name=\"q106588:11_sub7_answer\" size=\"7\" type=\"text\"/>\n",
      "    </span>\n",
      "   </td>\n",
      "   <td>\n",
      "    <span class=\"subquestion form-inline d-inline\" id=\"yui_3_17_2_1_1577051239941_148\">\n",
      "     <label class=\"subq accesshide\" for=\"q106588:11_sub8_answer\">\n",
      "      Answer\n",
      "     </label>\n",
      "     <input class=\"form-control mb-1\" id=\"q106588:11_sub8_answer\" name=\"q106588:11_sub8_answer\" size=\"7\" type=\"text\"/>\n",
      "    </span>\n",
      "   </td>\n",
      "  </tr>\n",
      " </tbody>\n",
      "</table>\n",
      "\n"
     ]
    }
   ],
   "source": [
    "print(table_html.prettify())"
   ]
  },
  {
   "cell_type": "code",
   "execution_count": 119,
   "metadata": {},
   "outputs": [],
   "source": [
    "data = []"
   ]
  },
  {
   "cell_type": "code",
   "execution_count": 120,
   "metadata": {},
   "outputs": [
    {
     "name": "stdout",
     "output_type": "stream",
     "text": [
      "can't convert row 12 cell 2 () to float\n",
      "can't convert row 13 cell 2 () to float\n",
      "can't convert row 14 cell 2 () to float\n",
      "can't convert row 15 cell 2 () to float\n",
      "can't convert row 15 cell 3 () to float\n",
      "can't convert row 16 cell 1 () to float\n",
      "can't convert row 16 cell 2 () to float\n",
      "can't convert row 16 cell 3 () to float\n",
      "can't convert row 17 cell 0 (Answer) to float\n",
      "can't convert row 17 cell 1 (Answer) to float\n",
      "can't convert row 17 cell 2 (Answer) to float\n"
     ]
    }
   ],
   "source": [
    "for i, html_row in enumerate(table_html.find_all('tr')[2:]):  # we don't need the headers\n",
    "    for j, html_cell in enumerate(html_row.find_all('td')[1:]):  # we don't need the number column\n",
    "        if i == 0:\n",
    "            data.append([])\n",
    "        try:\n",
    "            data[j].append(float(html_cell.text))\n",
    "        except ValueError:\n",
    "            print(f\"can't convert row {i} cell {j} ({html_cell.text}) to float\")"
   ]
  },
  {
   "cell_type": "code",
   "execution_count": 121,
   "metadata": {},
   "outputs": [
    {
     "data": {
      "text/plain": [
       "[[16.74,\n",
       "  16.85,\n",
       "  14.8,\n",
       "  17.17,\n",
       "  13.82,\n",
       "  14.9,\n",
       "  15.34,\n",
       "  17.39,\n",
       "  18.79,\n",
       "  18.14,\n",
       "  17.82,\n",
       "  18.04,\n",
       "  17.06,\n",
       "  14.58,\n",
       "  15.77,\n",
       "  15.98,\n",
       "  17.17],\n",
       " [15.98,\n",
       "  15.01,\n",
       "  15.34,\n",
       "  17.39,\n",
       "  16.52,\n",
       "  14.58,\n",
       "  14.47,\n",
       "  15.12,\n",
       "  16.31,\n",
       "  17.06,\n",
       "  17.28,\n",
       "  15.44,\n",
       "  16.2,\n",
       "  15.89,\n",
       "  13.93,\n",
       "  15.66],\n",
       " [13.27,\n",
       "  13.87,\n",
       "  14.66,\n",
       "  14.36,\n",
       "  16.64,\n",
       "  14.06,\n",
       "  13.37,\n",
       "  14.16,\n",
       "  13.67,\n",
       "  16.44,\n",
       "  14.56,\n",
       "  13.57],\n",
       " [15.46,\n",
       "  15.76,\n",
       "  17.14,\n",
       "  17.54,\n",
       "  18.23,\n",
       "  17.24,\n",
       "  15.06,\n",
       "  15.16,\n",
       "  16.45,\n",
       "  14.87,\n",
       "  17.44,\n",
       "  16.95,\n",
       "  16.25,\n",
       "  15.66,\n",
       "  16.35]]"
      ]
     },
     "execution_count": 121,
     "metadata": {},
     "output_type": "execute_result"
    }
   ],
   "source": [
    "data"
   ]
  },
  {
   "cell_type": "code",
   "execution_count": 124,
   "metadata": {},
   "outputs": [
    {
     "data": {
      "text/plain": [
       "[17, 16, 12, 15]"
      ]
     },
     "execution_count": 124,
     "metadata": {},
     "output_type": "execute_result"
    }
   ],
   "source": [
    "sizes = list(map(len, data))\n",
    "sizes"
   ]
  },
  {
   "cell_type": "code",
   "execution_count": 125,
   "metadata": {},
   "outputs": [
    {
     "name": "stdout",
     "output_type": "stream",
     "text": [
      "60\n"
     ]
    }
   ],
   "source": [
    "print(sum(sizes))"
   ]
  },
  {
   "cell_type": "code",
   "execution_count": 126,
   "metadata": {},
   "outputs": [],
   "source": [
    "def mean(sample):\n",
    "    return sum(sample) / len(sample)"
   ]
  },
  {
   "cell_type": "code",
   "execution_count": 127,
   "metadata": {},
   "outputs": [],
   "source": [
    "means = list(map(mean, data))"
   ]
  },
  {
   "cell_type": "code",
   "execution_count": 128,
   "metadata": {},
   "outputs": [
    {
     "name": "stdout",
     "output_type": "stream",
     "text": [
      "[16.491764705882353, 15.761249999999999, 14.385833333333332, 16.370666666666665]\n"
     ]
    }
   ],
   "source": [
    "print(means)"
   ]
  },
  {
   "cell_type": "code",
   "execution_count": 129,
   "metadata": {},
   "outputs": [],
   "source": [
    "from itertools import chain\n",
    "flattened_data = [x for x in chain.from_iterable(data)]\n",
    "overall_mean = mean(flattened_data)"
   ]
  },
  {
   "cell_type": "code",
   "execution_count": 130,
   "metadata": {},
   "outputs": [
    {
     "data": {
      "text/plain": [
       "15.845499999999996"
      ]
     },
     "execution_count": 130,
     "metadata": {},
     "output_type": "execute_result"
    }
   ],
   "source": [
    "overall_mean"
   ]
  },
  {
   "cell_type": "code",
   "execution_count": 131,
   "metadata": {},
   "outputs": [],
   "source": [
    "def ss(sample):\n",
    "    sample_mean = mean(sample)\n",
    "    return sum((x - sample_mean) ** 2 for x in sample)"
   ]
  },
  {
   "cell_type": "code",
   "execution_count": 132,
   "metadata": {},
   "outputs": [],
   "source": [
    "totalSS = ss(flattened_data)"
   ]
  },
  {
   "cell_type": "code",
   "execution_count": 133,
   "metadata": {},
   "outputs": [
    {
     "data": {
      "text/plain": [
       "113.17928499999996"
      ]
     },
     "execution_count": 133,
     "metadata": {},
     "output_type": "execute_result"
    }
   ],
   "source": [
    "totalSS"
   ]
  },
  {
   "cell_type": "code",
   "execution_count": 134,
   "metadata": {},
   "outputs": [
    {
     "data": {
      "text/plain": [
       "59"
      ]
     },
     "execution_count": 134,
     "metadata": {},
     "output_type": "execute_result"
    }
   ],
   "source": [
    "totalDF = len(flattened_data) - 1\n",
    "totalDF"
   ]
  },
  {
   "cell_type": "code",
   "execution_count": 135,
   "metadata": {},
   "outputs": [
    {
     "data": {
      "text/plain": [
       "76.26100705882352"
      ]
     },
     "execution_count": 135,
     "metadata": {},
     "output_type": "execute_result"
    }
   ],
   "source": [
    "withSS = sum(map(ss, data))\n",
    "withSS"
   ]
  },
  {
   "cell_type": "code",
   "execution_count": 136,
   "metadata": {},
   "outputs": [
    {
     "data": {
      "text/plain": [
       "56"
      ]
     },
     "execution_count": 136,
     "metadata": {},
     "output_type": "execute_result"
    }
   ],
   "source": [
    "withDF = len(flattened_data) - len(data)\n",
    "withDF"
   ]
  },
  {
   "cell_type": "code",
   "execution_count": 137,
   "metadata": {},
   "outputs": [
    {
     "data": {
      "text/plain": [
       "36.91827794117644"
      ]
     },
     "execution_count": 137,
     "metadata": {},
     "output_type": "execute_result"
    }
   ],
   "source": [
    "betSS = totalSS - withSS\n",
    "betSS"
   ]
  },
  {
   "cell_type": "code",
   "execution_count": 138,
   "metadata": {},
   "outputs": [
    {
     "data": {
      "text/plain": [
       "3"
      ]
     },
     "execution_count": 138,
     "metadata": {},
     "output_type": "execute_result"
    }
   ],
   "source": [
    "betDF = totalDF - withDF\n",
    "betDF"
   ]
  },
  {
   "cell_type": "code",
   "execution_count": 139,
   "metadata": {},
   "outputs": [
    {
     "data": {
      "text/plain": [
       "12.306092647058813"
      ]
     },
     "execution_count": 139,
     "metadata": {},
     "output_type": "execute_result"
    }
   ],
   "source": [
    "betMS = betSS / betDF\n",
    "betMS"
   ]
  },
  {
   "cell_type": "code",
   "execution_count": 140,
   "metadata": {},
   "outputs": [
    {
     "data": {
      "text/plain": [
       "1.3618036974789915"
      ]
     },
     "execution_count": 140,
     "metadata": {},
     "output_type": "execute_result"
    }
   ],
   "source": [
    "withMS = withSS / withDF\n",
    "withMS"
   ]
  },
  {
   "cell_type": "code",
   "execution_count": 141,
   "metadata": {},
   "outputs": [
    {
     "data": {
      "text/plain": [
       "9.036612743701747"
      ]
     },
     "execution_count": 141,
     "metadata": {},
     "output_type": "execute_result"
    }
   ],
   "source": [
    "f_statistic = betMS / withMS\n",
    "f_statistic"
   ]
  },
  {
   "cell_type": "code",
   "execution_count": 76,
   "metadata": {},
   "outputs": [
    {
     "data": {
      "text/plain": [
       "(2, 57)"
      ]
     },
     "execution_count": 76,
     "metadata": {},
     "output_type": "execute_result"
    }
   ],
   "source": [
    "betDF, withDF"
   ]
  },
  {
   "cell_type": "code",
   "execution_count": 84,
   "metadata": {},
   "outputs": [],
   "source": [
    "def se(sample1, sample2, withMS):\n",
    "    return (withMS / 2 * (1 / len(sample1) + 1 / len(sample2))) ** 0.5"
   ]
  },
  {
   "cell_type": "code",
   "execution_count": 87,
   "metadata": {},
   "outputs": [],
   "source": [
    "def q_statistic(sample1, sample2, se):\n",
    "    return abs(mean(sample1) - mean(sample2)) / se"
   ]
  },
  {
   "cell_type": "code",
   "execution_count": 89,
   "metadata": {},
   "outputs": [
    {
     "data": {
      "text/plain": [
       "0.12885982747140473"
      ]
     },
     "execution_count": 89,
     "metadata": {},
     "output_type": "execute_result"
    }
   ],
   "source": [
    "se02 = se(data[0], data[2], withMS)\n",
    "se02"
   ]
  },
  {
   "cell_type": "code",
   "execution_count": 90,
   "metadata": {},
   "outputs": [
    {
     "data": {
      "text/plain": [
       "5.537578643194889"
      ]
     },
     "execution_count": 90,
     "metadata": {},
     "output_type": "execute_result"
    }
   ],
   "source": [
    "q02 = q_statistic(data[0], data[2], se02)\n",
    "q02"
   ]
  },
  {
   "cell_type": "code",
   "execution_count": 91,
   "metadata": {},
   "outputs": [
    {
     "data": {
      "text/plain": [
       "0.13212675458227965"
      ]
     },
     "execution_count": 91,
     "metadata": {},
     "output_type": "execute_result"
    }
   ],
   "source": [
    "se01 = se(data[0], data[1], withMS)\n",
    "se01"
   ]
  },
  {
   "cell_type": "code",
   "execution_count": 92,
   "metadata": {},
   "outputs": [
    {
     "data": {
      "text/plain": [
       "4.576576375101335"
      ]
     },
     "execution_count": 92,
     "metadata": {},
     "output_type": "execute_result"
    }
   ],
   "source": [
    "q01 = q_statistic(data[0], data[1], se02)\n",
    "q01"
   ]
  },
  {
   "cell_type": "code",
   "execution_count": 93,
   "metadata": {},
   "outputs": [],
   "source": [
    "coeffs = -1, 0.5, 0.5"
   ]
  },
  {
   "cell_type": "code",
   "execution_count": 94,
   "metadata": {},
   "outputs": [],
   "source": [
    "def se_scheffe(coeffs, sizes, withMS):\n",
    "    return (withMS * sum(ci ** 2 / ni for ci, ni in zip(coeffs, sizes))) ** 0.5"
   ]
  },
  {
   "cell_type": "code",
   "execution_count": 95,
   "metadata": {},
   "outputs": [],
   "source": [
    "def s_statistic(coeffs, means, se):\n",
    "    return abs(sum(ci * mui for ci, mui in zip(coeffs, means))) / se"
   ]
  },
  {
   "cell_type": "code",
   "execution_count": 96,
   "metadata": {},
   "outputs": [],
   "source": [
    "def s_critical(k, f_critical):\n",
    "    return ((k - 1) * f_critical) ** 0.5"
   ]
  },
  {
   "cell_type": "code",
   "execution_count": 111,
   "metadata": {},
   "outputs": [
    {
     "data": {
      "text/plain": [
       "0.15980016585582302"
      ]
     },
     "execution_count": 111,
     "metadata": {},
     "output_type": "execute_result"
    }
   ],
   "source": [
    "se_s = se_scheffe(coeffs, sizes, withMS)\n",
    "se_s"
   ]
  },
  {
   "cell_type": "code",
   "execution_count": 112,
   "metadata": {},
   "outputs": [
    {
     "data": {
      "text/plain": [
       "4.077931533101729"
      ]
     },
     "execution_count": 112,
     "metadata": {},
     "output_type": "execute_result"
    }
   ],
   "source": [
    "s_st = s_statistic(coeffs, means, se_s)\n",
    "s_st"
   ]
  },
  {
   "cell_type": "code",
   "execution_count": 113,
   "metadata": {},
   "outputs": [],
   "source": [
    "f_critical_2_60 = 3.15"
   ]
  },
  {
   "cell_type": "code",
   "execution_count": 114,
   "metadata": {},
   "outputs": [
    {
     "data": {
      "text/plain": [
       "2.5099800796022267"
      ]
     },
     "execution_count": 114,
     "metadata": {},
     "output_type": "execute_result"
    }
   ],
   "source": [
    "s_crit = s_critical(3, f_critical_2_60)\n",
    "s_crit"
   ]
  },
  {
   "cell_type": "code",
   "execution_count": 142,
   "metadata": {},
   "outputs": [],
   "source": [
    "def se_dunnett(na, ncontrol, withMS):\n",
    "    return (withMS * (1 / na + 1 / ncontrol)) ** 0.5"
   ]
  },
  {
   "cell_type": "code",
   "execution_count": 143,
   "metadata": {},
   "outputs": [],
   "source": [
    "def q_dunnett(mua, mucontrol, se):\n",
    "    return abs(mua - mucontrol) / se"
   ]
  },
  {
   "cell_type": "code",
   "execution_count": 145,
   "metadata": {},
   "outputs": [
    {
     "data": {
      "text/plain": [
       "0.43998834224134625"
      ]
     },
     "execution_count": 145,
     "metadata": {},
     "output_type": "execute_result"
    }
   ],
   "source": [
    "se_d = se_dunnett(sizes[0], sizes[2], withMS)\n",
    "se_d"
   ]
  },
  {
   "cell_type": "code",
   "execution_count": null,
   "metadata": {},
   "outputs": [],
   "source": []
  }
 ],
 "metadata": {
  "kernelspec": {
   "display_name": "Python 3",
   "language": "python",
   "name": "python3"
  },
  "language_info": {
   "codemirror_mode": {
    "name": "ipython",
    "version": 3
   },
   "file_extension": ".py",
   "mimetype": "text/x-python",
   "name": "python",
   "nbconvert_exporter": "python",
   "pygments_lexer": "ipython3",
   "version": "3.6.5"
  }
 },
 "nbformat": 4,
 "nbformat_minor": 2
}
